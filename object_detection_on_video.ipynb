{
  "nbformat": 4,
  "nbformat_minor": 0,
  "metadata": {
    "colab": {
      "name": "Untitled1.ipynb",
      "provenance": [],
      "collapsed_sections": [],
      "machine_shape": "hm",
      "authorship_tag": "ABX9TyOJ3OHFU0a5MpDn+S71v5Pm",
      "include_colab_link": true
    },
    "kernelspec": {
      "name": "python3",
      "display_name": "Python 3"
    },
    "language_info": {
      "name": "python"
    },
    "accelerator": "GPU"
  },
  "cells": [
    {
      "cell_type": "markdown",
      "metadata": {
        "id": "view-in-github",
        "colab_type": "text"
      },
      "source": [
        "<a href=\"https://colab.research.google.com/github/WoradeeKongthong/object_detection_with_MaskRCNN/blob/master/object_detection_on_video.ipynb\" target=\"_parent\"><img src=\"https://colab.research.google.com/assets/colab-badge.svg\" alt=\"Open In Colab\"/></a>"
      ]
    },
    {
      "cell_type": "markdown",
      "metadata": {
        "id": "OH4pzeHp755z"
      },
      "source": [
        "# Mask R-CNN Object Detection on Video "
      ]
    },
    {
      "cell_type": "markdown",
      "metadata": {
        "id": "mI2gsP4q7544"
      },
      "source": [
        "## Clone Mast-RCNN model with Tensorflow2"
      ]
    },
    {
      "cell_type": "code",
      "metadata": {
        "id": "rfClcanxM0cD"
      },
      "source": [
        "import os\n",
        "if not os.path.isdir(\"./Mask-RCNN-TF2\") :\n",
        "  !git clone https://github.com/ahmedfgad/Mask-RCNN-TF2.git"
      ],
      "execution_count": 1,
      "outputs": []
    },
    {
      "cell_type": "markdown",
      "metadata": {
        "id": "Uhy_tRBT8Fom"
      },
      "source": [
        "## Install packages"
      ]
    },
    {
      "cell_type": "code",
      "metadata": {
        "colab": {
          "base_uri": "https://localhost:8080/"
        },
        "id": "_NokdMLxhBOu",
        "outputId": "fb0564a5-366a-4daf-e705-27c9e2601ecd"
      },
      "source": [
        "!pip install -r Mask-RCNN-TF2/requirements.txt"
      ],
      "execution_count": 2,
      "outputs": [
        {
          "output_type": "stream",
          "name": "stdout",
          "text": [
            "Requirement already satisfied: numpy in /usr/local/lib/python3.7/dist-packages (from -r Mask-RCNN-TF2/requirements.txt (line 1)) (1.19.5)\n",
            "Requirement already satisfied: scipy in /usr/local/lib/python3.7/dist-packages (from -r Mask-RCNN-TF2/requirements.txt (line 2)) (1.4.1)\n",
            "Requirement already satisfied: Pillow in /usr/local/lib/python3.7/dist-packages (from -r Mask-RCNN-TF2/requirements.txt (line 3)) (7.1.2)\n",
            "Requirement already satisfied: cython in /usr/local/lib/python3.7/dist-packages (from -r Mask-RCNN-TF2/requirements.txt (line 4)) (0.29.24)\n",
            "Requirement already satisfied: matplotlib in /usr/local/lib/python3.7/dist-packages (from -r Mask-RCNN-TF2/requirements.txt (line 5)) (3.2.2)\n",
            "Requirement already satisfied: scikit-image==0.16.2 in /usr/local/lib/python3.7/dist-packages (from -r Mask-RCNN-TF2/requirements.txt (line 6)) (0.16.2)\n",
            "Requirement already satisfied: tensorflow==2.2.0 in /usr/local/lib/python3.7/dist-packages (from -r Mask-RCNN-TF2/requirements.txt (line 7)) (2.2.0)\n",
            "Requirement already satisfied: keras==2.3.1 in /usr/local/lib/python3.7/dist-packages (from -r Mask-RCNN-TF2/requirements.txt (line 8)) (2.3.1)\n",
            "Requirement already satisfied: opencv-python in /usr/local/lib/python3.7/dist-packages (from -r Mask-RCNN-TF2/requirements.txt (line 9)) (4.1.2.30)\n",
            "Requirement already satisfied: h5py==2.10.0 in /usr/local/lib/python3.7/dist-packages (from -r Mask-RCNN-TF2/requirements.txt (line 10)) (2.10.0)\n",
            "Requirement already satisfied: imgaug in /usr/local/lib/python3.7/dist-packages (from -r Mask-RCNN-TF2/requirements.txt (line 11)) (0.2.9)\n",
            "Requirement already satisfied: IPython[all] in /usr/local/lib/python3.7/dist-packages (from -r Mask-RCNN-TF2/requirements.txt (line 12)) (5.5.0)\n",
            "Requirement already satisfied: PyWavelets>=0.4.0 in /usr/local/lib/python3.7/dist-packages (from scikit-image==0.16.2->-r Mask-RCNN-TF2/requirements.txt (line 6)) (1.1.1)\n",
            "Requirement already satisfied: networkx>=2.0 in /usr/local/lib/python3.7/dist-packages (from scikit-image==0.16.2->-r Mask-RCNN-TF2/requirements.txt (line 6)) (2.6.3)\n",
            "Requirement already satisfied: imageio>=2.3.0 in /usr/local/lib/python3.7/dist-packages (from scikit-image==0.16.2->-r Mask-RCNN-TF2/requirements.txt (line 6)) (2.4.1)\n",
            "Requirement already satisfied: tensorboard<2.3.0,>=2.2.0 in /usr/local/lib/python3.7/dist-packages (from tensorflow==2.2.0->-r Mask-RCNN-TF2/requirements.txt (line 7)) (2.2.2)\n",
            "Requirement already satisfied: grpcio>=1.8.6 in /usr/local/lib/python3.7/dist-packages (from tensorflow==2.2.0->-r Mask-RCNN-TF2/requirements.txt (line 7)) (1.41.0)\n",
            "Requirement already satisfied: wheel>=0.26 in /usr/local/lib/python3.7/dist-packages (from tensorflow==2.2.0->-r Mask-RCNN-TF2/requirements.txt (line 7)) (0.37.0)\n",
            "Requirement already satisfied: gast==0.3.3 in /usr/local/lib/python3.7/dist-packages (from tensorflow==2.2.0->-r Mask-RCNN-TF2/requirements.txt (line 7)) (0.3.3)\n",
            "Requirement already satisfied: absl-py>=0.7.0 in /usr/local/lib/python3.7/dist-packages (from tensorflow==2.2.0->-r Mask-RCNN-TF2/requirements.txt (line 7)) (0.12.0)\n",
            "Requirement already satisfied: termcolor>=1.1.0 in /usr/local/lib/python3.7/dist-packages (from tensorflow==2.2.0->-r Mask-RCNN-TF2/requirements.txt (line 7)) (1.1.0)\n",
            "Requirement already satisfied: opt-einsum>=2.3.2 in /usr/local/lib/python3.7/dist-packages (from tensorflow==2.2.0->-r Mask-RCNN-TF2/requirements.txt (line 7)) (3.3.0)\n",
            "Requirement already satisfied: astunparse==1.6.3 in /usr/local/lib/python3.7/dist-packages (from tensorflow==2.2.0->-r Mask-RCNN-TF2/requirements.txt (line 7)) (1.6.3)\n",
            "Requirement already satisfied: six>=1.12.0 in /usr/local/lib/python3.7/dist-packages (from tensorflow==2.2.0->-r Mask-RCNN-TF2/requirements.txt (line 7)) (1.15.0)\n",
            "Requirement already satisfied: keras-preprocessing>=1.1.0 in /usr/local/lib/python3.7/dist-packages (from tensorflow==2.2.0->-r Mask-RCNN-TF2/requirements.txt (line 7)) (1.1.2)\n",
            "Requirement already satisfied: protobuf>=3.8.0 in /usr/local/lib/python3.7/dist-packages (from tensorflow==2.2.0->-r Mask-RCNN-TF2/requirements.txt (line 7)) (3.17.3)\n",
            "Requirement already satisfied: wrapt>=1.11.1 in /usr/local/lib/python3.7/dist-packages (from tensorflow==2.2.0->-r Mask-RCNN-TF2/requirements.txt (line 7)) (1.12.1)\n",
            "Requirement already satisfied: tensorflow-estimator<2.3.0,>=2.2.0 in /usr/local/lib/python3.7/dist-packages (from tensorflow==2.2.0->-r Mask-RCNN-TF2/requirements.txt (line 7)) (2.2.0)\n",
            "Requirement already satisfied: google-pasta>=0.1.8 in /usr/local/lib/python3.7/dist-packages (from tensorflow==2.2.0->-r Mask-RCNN-TF2/requirements.txt (line 7)) (0.2.0)\n",
            "Requirement already satisfied: pyyaml in /usr/local/lib/python3.7/dist-packages (from keras==2.3.1->-r Mask-RCNN-TF2/requirements.txt (line 8)) (3.13)\n",
            "Requirement already satisfied: keras-applications>=1.0.6 in /usr/local/lib/python3.7/dist-packages (from keras==2.3.1->-r Mask-RCNN-TF2/requirements.txt (line 8)) (1.0.8)\n",
            "Requirement already satisfied: cycler>=0.10 in /usr/local/lib/python3.7/dist-packages (from matplotlib->-r Mask-RCNN-TF2/requirements.txt (line 5)) (0.10.0)\n",
            "Requirement already satisfied: python-dateutil>=2.1 in /usr/local/lib/python3.7/dist-packages (from matplotlib->-r Mask-RCNN-TF2/requirements.txt (line 5)) (2.8.2)\n",
            "Requirement already satisfied: pyparsing!=2.0.4,!=2.1.2,!=2.1.6,>=2.0.1 in /usr/local/lib/python3.7/dist-packages (from matplotlib->-r Mask-RCNN-TF2/requirements.txt (line 5)) (2.4.7)\n",
            "Requirement already satisfied: kiwisolver>=1.0.1 in /usr/local/lib/python3.7/dist-packages (from matplotlib->-r Mask-RCNN-TF2/requirements.txt (line 5)) (1.3.2)\n",
            "Requirement already satisfied: google-auth<2,>=1.6.3 in /usr/local/lib/python3.7/dist-packages (from tensorboard<2.3.0,>=2.2.0->tensorflow==2.2.0->-r Mask-RCNN-TF2/requirements.txt (line 7)) (1.35.0)\n",
            "Requirement already satisfied: setuptools>=41.0.0 in /usr/local/lib/python3.7/dist-packages (from tensorboard<2.3.0,>=2.2.0->tensorflow==2.2.0->-r Mask-RCNN-TF2/requirements.txt (line 7)) (57.4.0)\n",
            "Requirement already satisfied: google-auth-oauthlib<0.5,>=0.4.1 in /usr/local/lib/python3.7/dist-packages (from tensorboard<2.3.0,>=2.2.0->tensorflow==2.2.0->-r Mask-RCNN-TF2/requirements.txt (line 7)) (0.4.6)\n",
            "Requirement already satisfied: werkzeug>=0.11.15 in /usr/local/lib/python3.7/dist-packages (from tensorboard<2.3.0,>=2.2.0->tensorflow==2.2.0->-r Mask-RCNN-TF2/requirements.txt (line 7)) (1.0.1)\n",
            "Requirement already satisfied: requests<3,>=2.21.0 in /usr/local/lib/python3.7/dist-packages (from tensorboard<2.3.0,>=2.2.0->tensorflow==2.2.0->-r Mask-RCNN-TF2/requirements.txt (line 7)) (2.23.0)\n",
            "Requirement already satisfied: markdown>=2.6.8 in /usr/local/lib/python3.7/dist-packages (from tensorboard<2.3.0,>=2.2.0->tensorflow==2.2.0->-r Mask-RCNN-TF2/requirements.txt (line 7)) (3.3.4)\n",
            "Requirement already satisfied: tensorboard-plugin-wit>=1.6.0 in /usr/local/lib/python3.7/dist-packages (from tensorboard<2.3.0,>=2.2.0->tensorflow==2.2.0->-r Mask-RCNN-TF2/requirements.txt (line 7)) (1.8.0)\n",
            "Requirement already satisfied: cachetools<5.0,>=2.0.0 in /usr/local/lib/python3.7/dist-packages (from google-auth<2,>=1.6.3->tensorboard<2.3.0,>=2.2.0->tensorflow==2.2.0->-r Mask-RCNN-TF2/requirements.txt (line 7)) (4.2.4)\n",
            "Requirement already satisfied: rsa<5,>=3.1.4 in /usr/local/lib/python3.7/dist-packages (from google-auth<2,>=1.6.3->tensorboard<2.3.0,>=2.2.0->tensorflow==2.2.0->-r Mask-RCNN-TF2/requirements.txt (line 7)) (4.7.2)\n",
            "Requirement already satisfied: pyasn1-modules>=0.2.1 in /usr/local/lib/python3.7/dist-packages (from google-auth<2,>=1.6.3->tensorboard<2.3.0,>=2.2.0->tensorflow==2.2.0->-r Mask-RCNN-TF2/requirements.txt (line 7)) (0.2.8)\n",
            "Requirement already satisfied: requests-oauthlib>=0.7.0 in /usr/local/lib/python3.7/dist-packages (from google-auth-oauthlib<0.5,>=0.4.1->tensorboard<2.3.0,>=2.2.0->tensorflow==2.2.0->-r Mask-RCNN-TF2/requirements.txt (line 7)) (1.3.0)\n",
            "Requirement already satisfied: importlib-metadata in /usr/local/lib/python3.7/dist-packages (from markdown>=2.6.8->tensorboard<2.3.0,>=2.2.0->tensorflow==2.2.0->-r Mask-RCNN-TF2/requirements.txt (line 7)) (4.8.1)\n",
            "Requirement already satisfied: pyasn1<0.5.0,>=0.4.6 in /usr/local/lib/python3.7/dist-packages (from pyasn1-modules>=0.2.1->google-auth<2,>=1.6.3->tensorboard<2.3.0,>=2.2.0->tensorflow==2.2.0->-r Mask-RCNN-TF2/requirements.txt (line 7)) (0.4.8)\n",
            "Requirement already satisfied: urllib3!=1.25.0,!=1.25.1,<1.26,>=1.21.1 in /usr/local/lib/python3.7/dist-packages (from requests<3,>=2.21.0->tensorboard<2.3.0,>=2.2.0->tensorflow==2.2.0->-r Mask-RCNN-TF2/requirements.txt (line 7)) (1.24.3)\n",
            "Requirement already satisfied: certifi>=2017.4.17 in /usr/local/lib/python3.7/dist-packages (from requests<3,>=2.21.0->tensorboard<2.3.0,>=2.2.0->tensorflow==2.2.0->-r Mask-RCNN-TF2/requirements.txt (line 7)) (2021.5.30)\n",
            "Requirement already satisfied: chardet<4,>=3.0.2 in /usr/local/lib/python3.7/dist-packages (from requests<3,>=2.21.0->tensorboard<2.3.0,>=2.2.0->tensorflow==2.2.0->-r Mask-RCNN-TF2/requirements.txt (line 7)) (3.0.4)\n",
            "Requirement already satisfied: idna<3,>=2.5 in /usr/local/lib/python3.7/dist-packages (from requests<3,>=2.21.0->tensorboard<2.3.0,>=2.2.0->tensorflow==2.2.0->-r Mask-RCNN-TF2/requirements.txt (line 7)) (2.10)\n",
            "Requirement already satisfied: oauthlib>=3.0.0 in /usr/local/lib/python3.7/dist-packages (from requests-oauthlib>=0.7.0->google-auth-oauthlib<0.5,>=0.4.1->tensorboard<2.3.0,>=2.2.0->tensorflow==2.2.0->-r Mask-RCNN-TF2/requirements.txt (line 7)) (3.1.1)\n",
            "Requirement already satisfied: Shapely in /usr/local/lib/python3.7/dist-packages (from imgaug->-r Mask-RCNN-TF2/requirements.txt (line 11)) (1.7.1)\n",
            "Requirement already satisfied: zipp>=0.5 in /usr/local/lib/python3.7/dist-packages (from importlib-metadata->markdown>=2.6.8->tensorboard<2.3.0,>=2.2.0->tensorflow==2.2.0->-r Mask-RCNN-TF2/requirements.txt (line 7)) (3.6.0)\n",
            "Requirement already satisfied: typing-extensions>=3.6.4 in /usr/local/lib/python3.7/dist-packages (from importlib-metadata->markdown>=2.6.8->tensorboard<2.3.0,>=2.2.0->tensorflow==2.2.0->-r Mask-RCNN-TF2/requirements.txt (line 7)) (3.7.4.3)\n",
            "Requirement already satisfied: simplegeneric>0.8 in /usr/local/lib/python3.7/dist-packages (from IPython[all]->-r Mask-RCNN-TF2/requirements.txt (line 12)) (0.8.1)\n",
            "Requirement already satisfied: traitlets>=4.2 in /usr/local/lib/python3.7/dist-packages (from IPython[all]->-r Mask-RCNN-TF2/requirements.txt (line 12)) (5.1.0)\n",
            "Requirement already satisfied: pickleshare in /usr/local/lib/python3.7/dist-packages (from IPython[all]->-r Mask-RCNN-TF2/requirements.txt (line 12)) (0.7.5)\n",
            "Requirement already satisfied: pexpect in /usr/local/lib/python3.7/dist-packages (from IPython[all]->-r Mask-RCNN-TF2/requirements.txt (line 12)) (4.8.0)\n",
            "Requirement already satisfied: prompt-toolkit<2.0.0,>=1.0.4 in /usr/local/lib/python3.7/dist-packages (from IPython[all]->-r Mask-RCNN-TF2/requirements.txt (line 12)) (1.0.18)\n",
            "Requirement already satisfied: pygments in /usr/local/lib/python3.7/dist-packages (from IPython[all]->-r Mask-RCNN-TF2/requirements.txt (line 12)) (2.6.1)\n",
            "Requirement already satisfied: decorator in /usr/local/lib/python3.7/dist-packages (from IPython[all]->-r Mask-RCNN-TF2/requirements.txt (line 12)) (4.4.2)\n",
            "Requirement already satisfied: nbformat in /usr/local/lib/python3.7/dist-packages (from IPython[all]->-r Mask-RCNN-TF2/requirements.txt (line 12)) (5.1.3)\n",
            "Requirement already satisfied: ipyparallel in /usr/local/lib/python3.7/dist-packages (from IPython[all]->-r Mask-RCNN-TF2/requirements.txt (line 12)) (7.1.0)\n",
            "Requirement already satisfied: qtconsole in /usr/local/lib/python3.7/dist-packages (from IPython[all]->-r Mask-RCNN-TF2/requirements.txt (line 12)) (5.1.1)\n",
            "Requirement already satisfied: ipywidgets in /usr/local/lib/python3.7/dist-packages (from IPython[all]->-r Mask-RCNN-TF2/requirements.txt (line 12)) (7.6.5)\n",
            "Requirement already satisfied: notebook in /usr/local/lib/python3.7/dist-packages (from IPython[all]->-r Mask-RCNN-TF2/requirements.txt (line 12)) (5.3.1)\n",
            "Requirement already satisfied: Sphinx>=1.3 in /usr/local/lib/python3.7/dist-packages (from IPython[all]->-r Mask-RCNN-TF2/requirements.txt (line 12)) (1.8.5)\n",
            "Requirement already satisfied: ipykernel in /usr/local/lib/python3.7/dist-packages (from IPython[all]->-r Mask-RCNN-TF2/requirements.txt (line 12)) (4.10.1)\n",
            "Requirement already satisfied: nose>=0.10.1 in /usr/local/lib/python3.7/dist-packages (from IPython[all]->-r Mask-RCNN-TF2/requirements.txt (line 12)) (1.3.7)\n",
            "Requirement already satisfied: nbconvert in /usr/local/lib/python3.7/dist-packages (from IPython[all]->-r Mask-RCNN-TF2/requirements.txt (line 12)) (5.6.1)\n",
            "Requirement already satisfied: testpath in /usr/local/lib/python3.7/dist-packages (from IPython[all]->-r Mask-RCNN-TF2/requirements.txt (line 12)) (0.5.0)\n",
            "Requirement already satisfied: wcwidth in /usr/local/lib/python3.7/dist-packages (from prompt-toolkit<2.0.0,>=1.0.4->IPython[all]->-r Mask-RCNN-TF2/requirements.txt (line 12)) (0.2.5)\n",
            "Requirement already satisfied: alabaster<0.8,>=0.7 in /usr/local/lib/python3.7/dist-packages (from Sphinx>=1.3->IPython[all]->-r Mask-RCNN-TF2/requirements.txt (line 12)) (0.7.12)\n",
            "Requirement already satisfied: snowballstemmer>=1.1 in /usr/local/lib/python3.7/dist-packages (from Sphinx>=1.3->IPython[all]->-r Mask-RCNN-TF2/requirements.txt (line 12)) (2.1.0)\n",
            "Requirement already satisfied: sphinxcontrib-websupport in /usr/local/lib/python3.7/dist-packages (from Sphinx>=1.3->IPython[all]->-r Mask-RCNN-TF2/requirements.txt (line 12)) (1.2.4)\n",
            "Requirement already satisfied: Jinja2>=2.3 in /usr/local/lib/python3.7/dist-packages (from Sphinx>=1.3->IPython[all]->-r Mask-RCNN-TF2/requirements.txt (line 12)) (2.11.3)\n",
            "Requirement already satisfied: packaging in /usr/local/lib/python3.7/dist-packages (from Sphinx>=1.3->IPython[all]->-r Mask-RCNN-TF2/requirements.txt (line 12)) (21.0)\n",
            "Requirement already satisfied: babel!=2.0,>=1.3 in /usr/local/lib/python3.7/dist-packages (from Sphinx>=1.3->IPython[all]->-r Mask-RCNN-TF2/requirements.txt (line 12)) (2.9.1)\n",
            "Requirement already satisfied: docutils>=0.11 in /usr/local/lib/python3.7/dist-packages (from Sphinx>=1.3->IPython[all]->-r Mask-RCNN-TF2/requirements.txt (line 12)) (0.17.1)\n",
            "Requirement already satisfied: imagesize in /usr/local/lib/python3.7/dist-packages (from Sphinx>=1.3->IPython[all]->-r Mask-RCNN-TF2/requirements.txt (line 12)) (1.2.0)\n",
            "Requirement already satisfied: pytz>=2015.7 in /usr/local/lib/python3.7/dist-packages (from babel!=2.0,>=1.3->Sphinx>=1.3->IPython[all]->-r Mask-RCNN-TF2/requirements.txt (line 12)) (2018.9)\n",
            "Requirement already satisfied: MarkupSafe>=0.23 in /usr/local/lib/python3.7/dist-packages (from Jinja2>=2.3->Sphinx>=1.3->IPython[all]->-r Mask-RCNN-TF2/requirements.txt (line 12)) (2.0.1)\n",
            "Requirement already satisfied: jupyter-client in /usr/local/lib/python3.7/dist-packages (from ipykernel->IPython[all]->-r Mask-RCNN-TF2/requirements.txt (line 12)) (5.3.5)\n",
            "Requirement already satisfied: tornado>=4.0 in /usr/local/lib/python3.7/dist-packages (from ipykernel->IPython[all]->-r Mask-RCNN-TF2/requirements.txt (line 12)) (5.1.1)\n",
            "Requirement already satisfied: tqdm in /usr/local/lib/python3.7/dist-packages (from ipyparallel->IPython[all]->-r Mask-RCNN-TF2/requirements.txt (line 12)) (4.62.3)\n",
            "Requirement already satisfied: psutil in /usr/local/lib/python3.7/dist-packages (from ipyparallel->IPython[all]->-r Mask-RCNN-TF2/requirements.txt (line 12)) (5.4.8)\n",
            "Requirement already satisfied: pyzmq>=18 in /usr/local/lib/python3.7/dist-packages (from ipyparallel->IPython[all]->-r Mask-RCNN-TF2/requirements.txt (line 12)) (22.3.0)\n",
            "Requirement already satisfied: entrypoints in /usr/local/lib/python3.7/dist-packages (from ipyparallel->IPython[all]->-r Mask-RCNN-TF2/requirements.txt (line 12)) (0.3)\n",
            "Requirement already satisfied: ipython-genutils~=0.2.0 in /usr/local/lib/python3.7/dist-packages (from ipywidgets->IPython[all]->-r Mask-RCNN-TF2/requirements.txt (line 12)) (0.2.0)\n",
            "Requirement already satisfied: widgetsnbextension~=3.5.0 in /usr/local/lib/python3.7/dist-packages (from ipywidgets->IPython[all]->-r Mask-RCNN-TF2/requirements.txt (line 12)) (3.5.1)\n",
            "Requirement already satisfied: jupyterlab-widgets>=1.0.0 in /usr/local/lib/python3.7/dist-packages (from ipywidgets->IPython[all]->-r Mask-RCNN-TF2/requirements.txt (line 12)) (1.0.2)\n",
            "Requirement already satisfied: jupyter-core in /usr/local/lib/python3.7/dist-packages (from nbformat->IPython[all]->-r Mask-RCNN-TF2/requirements.txt (line 12)) (4.8.1)\n",
            "Requirement already satisfied: jsonschema!=2.5.0,>=2.4 in /usr/local/lib/python3.7/dist-packages (from nbformat->IPython[all]->-r Mask-RCNN-TF2/requirements.txt (line 12)) (2.6.0)\n",
            "Requirement already satisfied: terminado>=0.8.1 in /usr/local/lib/python3.7/dist-packages (from notebook->IPython[all]->-r Mask-RCNN-TF2/requirements.txt (line 12)) (0.12.1)\n",
            "Requirement already satisfied: Send2Trash in /usr/local/lib/python3.7/dist-packages (from notebook->IPython[all]->-r Mask-RCNN-TF2/requirements.txt (line 12)) (1.8.0)\n",
            "Requirement already satisfied: ptyprocess in /usr/local/lib/python3.7/dist-packages (from terminado>=0.8.1->notebook->IPython[all]->-r Mask-RCNN-TF2/requirements.txt (line 12)) (0.7.0)\n",
            "Requirement already satisfied: mistune<2,>=0.8.1 in /usr/local/lib/python3.7/dist-packages (from nbconvert->IPython[all]->-r Mask-RCNN-TF2/requirements.txt (line 12)) (0.8.4)\n",
            "Requirement already satisfied: pandocfilters>=1.4.1 in /usr/local/lib/python3.7/dist-packages (from nbconvert->IPython[all]->-r Mask-RCNN-TF2/requirements.txt (line 12)) (1.5.0)\n",
            "Requirement already satisfied: defusedxml in /usr/local/lib/python3.7/dist-packages (from nbconvert->IPython[all]->-r Mask-RCNN-TF2/requirements.txt (line 12)) (0.7.1)\n",
            "Requirement already satisfied: bleach in /usr/local/lib/python3.7/dist-packages (from nbconvert->IPython[all]->-r Mask-RCNN-TF2/requirements.txt (line 12)) (4.1.0)\n",
            "Requirement already satisfied: webencodings in /usr/local/lib/python3.7/dist-packages (from bleach->nbconvert->IPython[all]->-r Mask-RCNN-TF2/requirements.txt (line 12)) (0.5.1)\n",
            "Requirement already satisfied: qtpy in /usr/local/lib/python3.7/dist-packages (from qtconsole->IPython[all]->-r Mask-RCNN-TF2/requirements.txt (line 12)) (1.11.2)\n",
            "Requirement already satisfied: sphinxcontrib-serializinghtml in /usr/local/lib/python3.7/dist-packages (from sphinxcontrib-websupport->Sphinx>=1.3->IPython[all]->-r Mask-RCNN-TF2/requirements.txt (line 12)) (1.1.5)\n"
          ]
        }
      ]
    },
    {
      "cell_type": "markdown",
      "metadata": {
        "id": "2zOuXQtM84hP"
      },
      "source": [
        "## Import additional packages"
      ]
    },
    {
      "cell_type": "code",
      "metadata": {
        "id": "Ay2sEwOQ35QQ"
      },
      "source": [
        "import random\n",
        "import sys\n",
        "import cv2\n",
        "from google.colab import files\n",
        "import numpy as np"
      ],
      "execution_count": 3,
      "outputs": []
    },
    {
      "cell_type": "markdown",
      "metadata": {
        "id": "PEv3UNLY8-p0"
      },
      "source": [
        "## Import mrcnn"
      ]
    },
    {
      "cell_type": "code",
      "metadata": {
        "id": "AmGiyqRVy5pn",
        "colab": {
          "base_uri": "https://localhost:8080/"
        },
        "outputId": "7171a86c-3216-4eec-c9dd-5e366ee3daa1"
      },
      "source": [
        "# set root directory to Mask_RCNN\n",
        "ROOT_DIR = 'Mask-RCNN-TF2'\n",
        "\n",
        "# add root dir to path\n",
        "sys.path.append(ROOT_DIR) \n",
        "\n",
        "# import mrcnn\n",
        "import mrcnn\n",
        "import mrcnn.config\n",
        "import mrcnn.model\n",
        "import mrcnn.visualize\n",
        "from mrcnn import utils"
      ],
      "execution_count": 5,
      "outputs": [
        {
          "output_type": "stream",
          "name": "stderr",
          "text": [
            "Using TensorFlow backend.\n"
          ]
        }
      ]
    },
    {
      "cell_type": "markdown",
      "metadata": {
        "id": "kRZi0gMB9FYh"
      },
      "source": [
        "## Get class names of COCO dataset"
      ]
    },
    {
      "cell_type": "code",
      "metadata": {
        "id": "iEHB_82SzCOq"
      },
      "source": [
        "# load the class label names from disk, one label per line\n",
        "CLASS_NAMES = open(ROOT_DIR+\"/samples/coco_labels.txt\").read().strip().split(\"\\n\")"
      ],
      "execution_count": 6,
      "outputs": []
    },
    {
      "cell_type": "markdown",
      "metadata": {
        "id": "s2yB48669Pwz"
      },
      "source": [
        "## Create pre-trained Mask R-CNN (trained on COCO Dataset)"
      ]
    },
    {
      "cell_type": "markdown",
      "metadata": {
        "id": "883D-fXw9gsD"
      },
      "source": [
        "### Create config"
      ]
    },
    {
      "cell_type": "code",
      "metadata": {
        "id": "coV0iafXzCNA"
      },
      "source": [
        "class SimpleConfig(mrcnn.config.Config):\n",
        "    # Give the configuration a recognizable name\n",
        "    NAME = \"coco_inference\"\n",
        "    \n",
        "    # set the number of GPUs to use along with the number of images per GPU\n",
        "    GPU_COUNT = 1\n",
        "    IMAGES_PER_GPU = 1\n",
        "\n",
        "\t# Number of classes = number of classes + 1 (+1 for the background). The background class is named BG\n",
        "    NUM_CLASSES = len(CLASS_NAMES)\n"
      ],
      "execution_count": 7,
      "outputs": []
    },
    {
      "cell_type": "markdown",
      "metadata": {
        "id": "VZE83AGa9kUE"
      },
      "source": [
        "### Create model architecture"
      ]
    },
    {
      "cell_type": "code",
      "metadata": {
        "id": "069_Pmx0zCLD"
      },
      "source": [
        "# Initialize the Mask R-CNN model for inference and then load the weights.\n",
        "# This step builds the Keras model architecture.\n",
        "model = mrcnn.model.MaskRCNN(mode=\"inference\", \n",
        "                             config=SimpleConfig(),\n",
        "                             model_dir=os.getcwd())"
      ],
      "execution_count": 8,
      "outputs": []
    },
    {
      "cell_type": "markdown",
      "metadata": {
        "id": "0B5a92c09nyp"
      },
      "source": [
        "### Load trained weights to the model"
      ]
    },
    {
      "cell_type": "code",
      "metadata": {
        "colab": {
          "base_uri": "https://localhost:8080/"
        },
        "id": "TfJoIqFhzCI1",
        "outputId": "9b4741bb-a2e9-49b1-9732-43d673e170e5"
      },
      "source": [
        "# Local path to save trained weights file\n",
        "COCO_MODEL_PATH = os.path.join('.', \"mask_rcnn_coco.h5\")\n",
        "\n",
        "# Download COCO trained weights from Releases if needed\n",
        "if not os.path.exists(COCO_MODEL_PATH):\n",
        "    utils.download_trained_weights(COCO_MODEL_PATH)\n",
        "\n",
        "# Load the weights into the model.\n",
        "model.load_weights(filepath=COCO_MODEL_PATH, \n",
        "                   by_name=True)\n"
      ],
      "execution_count": 9,
      "outputs": [
        {
          "output_type": "stream",
          "name": "stdout",
          "text": [
            "Downloading pretrained model to ./mask_rcnn_coco.h5 ...\n",
            "... done downloading pretrained model!\n"
          ]
        }
      ]
    },
    {
      "cell_type": "markdown",
      "metadata": {
        "id": "F2frf0ckdSpe"
      },
      "source": [
        "# Run object detection on video"
      ]
    },
    {
      "cell_type": "markdown",
      "metadata": {
        "id": "946qhVSjhmfb"
      },
      "source": [
        "## Create helper functions for create visualization on frame"
      ]
    },
    {
      "cell_type": "code",
      "metadata": {
        "id": "k2gzb0zfdWlS"
      },
      "source": [
        "def random_colors(N):\n",
        "    np.random.seed(1)\n",
        "    colors = [tuple(255 * np.random.rand(3)) for _ in range(N)]\n",
        "    return colors\n",
        "\n",
        "colors = random_colors(len(CLASS_NAMES))\n",
        "class_dict = {\n",
        "    name: color for name, color in zip(CLASS_NAMES, colors)\n",
        "}"
      ],
      "execution_count": 20,
      "outputs": []
    },
    {
      "cell_type": "code",
      "metadata": {
        "id": "EtmThAfHh5EF"
      },
      "source": [
        "def apply_mask(image, mask, color, alpha=0.5):\n",
        "    \"\"\"apply mask to image\"\"\"\n",
        "    for n, c in enumerate(color):\n",
        "        image[:, :, n] = np.where(\n",
        "            mask == 1,\n",
        "            image[:, :, n] * (1 - alpha) + alpha * c,\n",
        "            image[:, :, n]\n",
        "        )\n",
        "    return image"
      ],
      "execution_count": null,
      "outputs": []
    },
    {
      "cell_type": "code",
      "metadata": {
        "id": "pkkfrUwAh70k"
      },
      "source": [
        "def display_instances(image, boxes, masks, ids, names, scores):\n",
        "    \"\"\"\n",
        "        take the image and results and apply the mask, box, and Label\n",
        "    \"\"\"\n",
        "    n_instances = boxes.shape[0]\n",
        "\n",
        "    if not n_instances:\n",
        "        pass\n",
        "    else:\n",
        "        assert boxes.shape[0] == masks.shape[-1] == ids.shape[0]\n",
        "\n",
        "    for i in range(n_instances):\n",
        "        if not np.any(boxes[i]):\n",
        "            continue\n",
        "\n",
        "        y1, x1, y2, x2 = boxes[i]\n",
        "        label = names[ids[i]]\n",
        "        color = class_dict[label]\n",
        "        score = scores[i] if scores is not None else None\n",
        "        caption = '{} {:.2f}'.format(label, score) if score else label\n",
        "        mask = masks[:, :, i]\n",
        "\n",
        "        image = apply_mask(image, mask, color)\n",
        "        image = cv2.rectangle(image, (x1, y1), (x2, y2), color, 2)\n",
        "        image = cv2.putText(\n",
        "            image, caption, (x1, y1), cv2.FONT_HERSHEY_COMPLEX, 0.7, color, 2\n",
        "        )\n",
        "\n",
        "    return image"
      ],
      "execution_count": null,
      "outputs": []
    },
    {
      "cell_type": "markdown",
      "metadata": {
        "id": "vPJKESsujwZG"
      },
      "source": [
        "### Specify input and output paths"
      ]
    },
    {
      "cell_type": "code",
      "metadata": {
        "id": "3g-UmyfVjbcX"
      },
      "source": [
        "input_file_path = \"/content/japanese-seaside-walk.mp4\"\n",
        "output_file_path = \"/content/japanese-seaside-walk.avi\""
      ],
      "execution_count": 23,
      "outputs": []
    },
    {
      "cell_type": "markdown",
      "metadata": {
        "id": "zSi2WXJtj2RN"
      },
      "source": [
        "### Create video writer object"
      ]
    },
    {
      "cell_type": "code",
      "metadata": {
        "id": "oyU3BTFDd36j"
      },
      "source": [
        "frameWidth = 640\n",
        "frameHeight = 480\n",
        "fourcc = cv2.VideoWriter_fourcc('M','J','P','G')\n",
        "result = cv2.VideoWriter(output_file_path, fourcc, 10.0, (frameWidth,frameHeight))"
      ],
      "execution_count": 24,
      "outputs": []
    },
    {
      "cell_type": "markdown",
      "metadata": {
        "id": "-UqbOhfRj5l9"
      },
      "source": [
        "### Run object detection and write to output video"
      ]
    },
    {
      "cell_type": "code",
      "metadata": {
        "id": "fN5HgZd5eDfB"
      },
      "source": [
        "cap = cv2.VideoCapture(input_file_path)\n",
        "while cap.isOpened():\n",
        "    check, frame = cap.read()\n",
        "    if check == True:\n",
        "        frame = cv2.resize(frame, (frameWidth, frameHeight))\n",
        "        results = model.detect([frame])\n",
        "        r = results[0]\n",
        "        img = display_instances(frame, r['rois'], \n",
        "                                r['masks'], r['class_ids'], \n",
        "                                CLASS_NAMES, r['scores'])\n",
        "        result.write(img)\n",
        "    else:\n",
        "        break\n"
      ],
      "execution_count": null,
      "outputs": []
    },
    {
      "cell_type": "markdown",
      "metadata": {
        "id": "6uKkfNYKkHvJ"
      },
      "source": [
        "### Download result\n"
      ]
    },
    {
      "cell_type": "code",
      "metadata": {
        "id": "CcaeevK2kTzC"
      },
      "source": [
        "files.download(output_file_path)"
      ],
      "execution_count": null,
      "outputs": []
    }
  ]
}